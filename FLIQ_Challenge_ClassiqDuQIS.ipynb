{
 "cells": [
  {
   "cell_type": "markdown",
   "id": "ac6de42c",
   "metadata": {},
   "source": [
    "# Make Sure You Are Ready to Go\n",
    "\n",
    "$\\renewcommand{\\ket}[1]{\\left| #1 \\right\\rangle}\n",
    "\\renewcommand{\\bra}[1]{\\left\\langle #1 \\right|}\n",
    "\\renewcommand{\\braket}[2]{\\left\\langle #1 | #2 \\right\\rangle}\n",
    "\\newcommand{\\ketbra}[2]{\\left| #1 \\right\\rangle\\!\\left\\langle #2 \\right|}$\n",
    "\n",
    "If you haven't done it yet, try running the following lines of code and use the [registration and installation](https://docs.classiq.io/latest/classiq_101/registration_installations/) page if you are having difficulty setting up your environment.\\\n",
    "Uncomment and run the following command to install or update to the latest version of the Classiq SDK (if not installed yet):"
   ]
  },
  {
   "cell_type": "code",
   "execution_count": 1,
   "id": "85f503ae",
   "metadata": {},
   "outputs": [
    {
     "name": "stdout",
     "output_type": "stream",
     "text": [
      "Requirement already satisfied: scikit-learn in d:\\dev\\quantotto\\quantum\\classiq\\clqenv\\lib\\site-packages (1.6.1)\n",
      "Requirement already satisfied: numpy>=1.19.5 in d:\\dev\\quantotto\\quantum\\classiq\\clqenv\\lib\\site-packages (from scikit-learn) (1.26.4)\n",
      "Requirement already satisfied: scipy>=1.6.0 in d:\\dev\\quantotto\\quantum\\classiq\\clqenv\\lib\\site-packages (from scikit-learn) (1.14.1)\n",
      "Requirement already satisfied: joblib>=1.2.0 in d:\\dev\\quantotto\\quantum\\classiq\\clqenv\\lib\\site-packages (from scikit-learn) (1.5.0)\n",
      "Requirement already satisfied: threadpoolctl>=3.1.0 in d:\\dev\\quantotto\\quantum\\classiq\\clqenv\\lib\\site-packages (from scikit-learn) (3.6.0)\n"
     ]
    },
    {
     "name": "stderr",
     "output_type": "stream",
     "text": [
      "\n",
      "[notice] A new release of pip is available: 24.2 -> 25.1.1\n",
      "[notice] To update, run: python.exe -m pip install --upgrade pip\n"
     ]
    }
   ],
   "source": [
    "# pip install -U classiq\n",
    "!pip install scikit-learn"
   ]
  },
  {
   "cell_type": "code",
   "execution_count": 2,
   "id": "32deceb1",
   "metadata": {},
   "outputs": [],
   "source": [
    "import classiq"
   ]
  },
  {
   "cell_type": "markdown",
   "id": "6fbf8eae",
   "metadata": {},
   "source": [
    "Uncomment and run the following command if your machine has not been authenticated yet, you only need to run it once!"
   ]
  },
  {
   "cell_type": "code",
   "execution_count": 3,
   "id": "39634579",
   "metadata": {},
   "outputs": [],
   "source": [
    "# classiq.authenticate()"
   ]
  },
  {
   "cell_type": "markdown",
   "id": "5305b3c8",
   "metadata": {},
   "source": [
    "Now you are good to go!"
   ]
  },
  {
   "cell_type": "markdown",
   "id": "c77d86a9",
   "metadata": {},
   "source": [
    "# Rydberg Phase Diagram"
   ]
  },
  {
   "cell_type": "markdown",
   "id": "d0929b0c",
   "metadata": {},
   "source": [
    "Before starting to code, let us reiterating some theory on Rydberg atoms - the subject of this challenge. They interact via the following Hamiltonian:\n",
    "\n",
    "$$\n",
    "H = \\frac{\\Omega}{2} \\sum_{i=1}^N X_i \n",
    "    - \\delta \\sum_{i=1}^N n_i \n",
    "    + \\sum_{i \\lt j} \\frac{\\Omega R_b^6 }{(a|i-j|)^6} n_i n_j.\n",
    "$$\n",
    "\n",
    "You can find the phase diagram for a $51$-atom chain below. It is obtained by fixing $a=1$ and $\\Omega=1$ and varying $\\delta$ and $R_b$."
   ]
  },
  {
   "cell_type": "markdown",
   "id": "d294a85c",
   "metadata": {},
   "source": [
    "<img src=\"phase_diagram.png\" alt=\"Phase Diagram\" width=\"800\">\n"
   ]
  },
  {
   "cell_type": "markdown",
   "id": "7e9a92b5",
   "metadata": {},
   "source": [
    "Fig.1: Phase diagram of the 1D Rydberg Hamiltonian, traced out by (left) bipartite entanglement entropy and (right) expectation value of the number of Rydberg excitations. Plots are obtained using tensor-network representation of the ground states of $H$."
   ]
  },
  {
   "cell_type": "markdown",
   "id": "0462afa8",
   "metadata": {},
   "source": [
    "In this challenge, we focus on distinguishing between the $Z2$ phase, where the ground state of $H$ has large overlap with the state $\\ket{rgr\\ldots gr}$, and the $Z3$ phase, where the ground state overlaps strongly with basis states of the form $\\ket{\\ldots rggrgg\\ldots}$.\n",
    "\n",
    "Evidently, such systems can be efficiently studied using tensor networks. However, this challenge prepares us for a more realistic scenario in which we only have access to measurement outcomes from the ground state of some Hamiltonian, and our goal is to determine which phase of matter the state belongs to."
   ]
  },
  {
   "cell_type": "markdown",
   "id": "cedcc958",
   "metadata": {},
   "source": [
    "# Loading and Processing Measurement Data\n",
    "\n",
    "Training data for your model contains measurement results in randomized bases performed on a 51-qubit Rydberg atoms chain. We load training data from the .npz file in the next cell."
   ]
  },
  {
   "cell_type": "code",
   "execution_count": 4,
   "id": "33060828",
   "metadata": {},
   "outputs": [],
   "source": [
    "import numpy as np\n",
    "# You might need to make additional imports depending on your implementation"
   ]
  },
  {
   "cell_type": "code",
   "execution_count": 5,
   "id": "4e3917d1",
   "metadata": {},
   "outputs": [
    {
     "name": "stdout",
     "output_type": "stream",
     "text": [
      "There are 20 data points\n",
      "There were T = 500 measurements performed for each data point\n",
      "The measurements were performed on 51 qubits\n",
      "Example: 2nd experiment result of 8th data point -> ['r', '-', 'i', 'i', 'r', '+', 'r', 'g', '+', '-i', 'r', '-', '-', 'g', '-i', '-', 'r', 'g', 'i', 'i', 'i', '-', 'r', '-i', 'r', 'i', 'r', '+', 'i', 'g', '-', '-i', '-', 'g', '-i', 'i', 'r', '-', '-', '-', 'i', 'i', '-i', 'g', '-i', 'g', 'r', '-', 'r', '+', '-']\n",
      "Example: label for the 8th data point -> Z2\n"
     ]
    }
   ],
   "source": [
    "loaded = np.load(\"training_data.npz\", allow_pickle=True)\n",
    "\n",
    "unprocessed_features = loaded[\"features\"].tolist()\n",
    "unprocessed_labels = loaded[\"labels\"].tolist()\n",
    "\n",
    "print(f'There are {len(unprocessed_features)} data points')\n",
    "print(f'There were T = {len(unprocessed_features[0])} measurements performed for each data point')\n",
    "print(f'The measurements were performed on {len(unprocessed_features[0][0])} qubits')\n",
    "print(f'Example: 2nd experiment result of 8th data point -> {unprocessed_features[7][1]}')\n",
    "print(f'Example: label for the 8th data point -> {unprocessed_labels[7]}')"
   ]
  },
  {
   "cell_type": "markdown",
   "id": "3ba14877",
   "metadata": {},
   "source": [
    "In the above,\n",
    "- $\\ket{g}$ is the atomic ground state, which is a $+1$-eigenstate of Pauli $Z$\n",
    "- $\\ket{r}$ is the highly excited Rydberg state, which is a $-1$-eigenstate of Pauli $Z$\n",
    "- $\\ket{+} = \\frac{1}{\\sqrt2}(\\ket{g} + \\ket{r})$, a $+1$-eigenstate of Pauli $X$\n",
    "- $\\ket{-} = \\frac{1}{\\sqrt2}(\\ket{g} - \\ket{r})$, a $-1$-eigenstate of Pauli $X$\n",
    "- $\\ket{+i} = \\frac{1}{\\sqrt2}(\\ket{g} +i\\ket{r})$, a $+1$-eigenstate of Pauli $Y$\n",
    "- $\\ket{-i} = \\frac{1}{\\sqrt2}(\\ket{g} -i \\ket{r})$, a $-1$-eigenstate of Pauli $Y$.\n",
    "\n",
    "It is up to you how to convert the features into classical shadows and labels into numbers and then both into training data for your model. For example, you could assign $-1$ to $Z2$ and $+1$ to $Z3$.\n",
    "\n",
    "**Note:** If you decide to define any helper classes/functions in a separate Python file, please submit it alongside your solution notebook, so we can run and grade it properly"
   ]
  },
  {
   "cell_type": "markdown",
   "id": "f1f61d3a",
   "metadata": {},
   "source": [
    "## Dataset \n",
    "\n",
    "The `shadows.py` file contains the functions that process loaded measurement features and labels and create a dataset suitable for training.\n",
    "\n",
    "The last argument of `create_dataset` is the size of a subsystem. Instead of obtaining tensor product of density matrices, we flatten each individual density matrix, complex conjugate the values and contatenate them into a vector. We extract these vectors along all the measurements provided and this way we are able to generate a substantial size of a data set. With that, we keep the vector size pretty small and thus reduce the number of qubits in the circuit that encodes and studies the data.\n",
    "\n",
    "If, for example, the subsystem size is 4, each density matrix for a single atom / qubit is represented by 4 values. Total values will be 4x4 = 16 and with dense angle encoding, it will require only 8 qubits.\n"
   ]
  },
  {
   "cell_type": "code",
   "execution_count": 6,
   "id": "deba5d04",
   "metadata": {},
   "outputs": [],
   "source": [
    "### Your Code Goes Here: ###\n",
    "from shadows import create_dataset\n",
    "\n",
    "\n",
    "data_x, data_y = create_dataset(loaded[\"features\"], loaded[\"labels\"], 4)"
   ]
  },
  {
   "cell_type": "markdown",
   "id": "8016123e",
   "metadata": {},
   "source": [
    "# Defining a Quantum Model\n",
    "\n",
    "In this section, you will create a QML model for classifying the quantum phases. This will include 3 stages:\n",
    "- First, you will need to decide on the data encoding scheme, i.e. loading numerical features you obtained above into the quantum circuit. \n",
    "- Then, you will need to come up with an ansatz - a parametrized quantum circuit, which will be optimized to perform classification. \n",
    "- Finally, to readout classical information from the quantum model, you will need to perform some sort of measurement on the resultant quantum state. Perhaps, you could extract an expectation value of some Pauli-string $P \\in \\{I, X, Y, Z\\}^{\\otimes N}$, so that $\\langle P \\rangle < b$ is interpreted as $Z2$ and  $\\langle P \\rangle > b$ is interpreted as $Z3$ for some decision boundary $b$. \n",
    "\n",
    "There are several approaches to QML in Classiq, linked below.\n",
    "\n",
    "You may find the following guides useful:\n",
    "- QML with Classiq: http://docs.classiq.io/latest/user-guide/read/qml_with_classiq_guide/\n",
    "- Variational Model Example: https://github.com/Classiq/classiq-library/blob/main/algorithms/qaoa/maxcut/qaoa_max_cut.ipynb\n",
    "- Hybrid QNN: https://docs.classiq.io/latest/explore/algorithms/qml/hybrid_qnn/hybrid_qnn_for_subset_majority/\n",
    "\n",
    "Although the 2nd guide describes a hybrid model, **you may not implement a hybrid model**, the guide should only be used as a reference as to how to implement QML. \n",
    "\n",
    "**Warning**: Training using the Classiq PyTorch integration may take a prohibitive amount of time. Consider this when choosing an approach."
   ]
  },
  {
   "cell_type": "code",
   "execution_count": 7,
   "id": "6413592b",
   "metadata": {},
   "outputs": [],
   "source": [
    "from classiq import *\n",
    "from classiq.execution import *\n",
    "# You might need to make additional imports depending on your implementation"
   ]
  },
  {
   "cell_type": "code",
   "execution_count": 8,
   "id": "d5a853fa",
   "metadata": {},
   "outputs": [
    {
     "name": "stdout",
     "output_type": "stream",
     "text": [
      "16 8 15\n"
     ]
    }
   ],
   "source": [
    "# The following function signatures are only a template to get you started. You may, and should change them to suit your needs!\n",
    "\n",
    "#Change these according to your implementation.\n",
    "\n",
    "feature_length = len(data_x[0])\n",
    "# num_qubits = int(np.log2(feature_length))\n",
    "num_qubits = int(feature_length / 2)\n",
    "num_weights = 2 * num_qubits - 1\n",
    "print(feature_length, num_qubits, num_weights)\n",
    "\n",
    "\n",
    "@qfunc\n",
    "def encoding(feature: CArray[CReal, feature_length], wires: Output[QArray]) -> None: # your encoding scheme\n",
    "    encode_on_bloch(feature, wires)\n",
    "\n",
    "@qfunc\n",
    "def ansatz(angles: CArray[CReal], wires: QArray) -> None: # your ansatz\n",
    "    ### Your Code Goes Here: ###\n",
    "    repeat(count=num_qubits, iteration=lambda i: RY(angles[i], wires[i]))\n",
    "    repeat(count=num_qubits-1, iteration=lambda i: RZZ(angles[i+wires.len], wires[i:i+2]))\n",
    "    # repeat(count=num_qubits, iteration=lambda i: RY(angles[i+wires.len], wires[i]))\n",
    "\n",
    "    \n",
    "@qfunc\n",
    "def main(feature: CArray[CReal, feature_length], weights: CArray[CReal, num_weights], result: Output[QArray[QBit, num_qubits]]):\n",
    "    '''\n",
    "    Combine the encoding scheme and parametrized quantum circuit you came up with\n",
    "    to encode and then process data\n",
    "    '''\n",
    "    # allocate(num_qubits, result)\n",
    "    encoding(feature, result)\n",
    "    ansatz(weights, result)\n",
    "\n"
   ]
  },
  {
   "cell_type": "markdown",
   "id": "4c2bcb6f",
   "metadata": {},
   "source": [
    "### Synthesis\n",
    "\n",
    "Before training, you must synthesize your model into a quantum program. Placeholders for your parameters will be automatically generated.\n",
    "\n",
    "You may find the following documentation useful: https://docs.classiq.io/latest/sdk-reference/synthesis/"
   ]
  },
  {
   "cell_type": "code",
   "execution_count": 9,
   "id": "d56f23ca",
   "metadata": {},
   "outputs": [],
   "source": [
    "# Set your preferences here!\n",
    "\n",
    "NUM_SHOTS = 1024\n",
    "\n",
    "# SIMULATOR is the default backend.\n",
    "BACKEND_PREFERENCES = ClassiqBackendPreferences(\n",
    "        backend_name=ClassiqSimulatorBackendNames.SIMULATOR\n",
    ")\n",
    "\n",
    "# Vary this to achieve the best optimization of your circuit.\n",
    "OPTIMIZATION_PARAMETER = 'depth' \n",
    "\n",
    "QMOD = create_model(\n",
    "    main,\n",
    "    execution_preferences=ExecutionPreferences(\n",
    "        num_shots=NUM_SHOTS, backend_preferences=BACKEND_PREFERENCES\n",
    "    ),\n",
    "    constraints=Constraints(optimization_parameter=OPTIMIZATION_PARAMETER)\n",
    ")\n",
    "QPROG = synthesize(QMOD)\n",
    "\n",
    "# Use the show() function to display your circuit in the browser.\n",
    "# show(QPROG)"
   ]
  },
  {
   "cell_type": "markdown",
   "id": "a03b040c",
   "metadata": {},
   "source": [
    "# Training the Model\n",
    "\n",
    "Here, you will optimize the weights in ansatz, so that the model can distiguish between the phases. \n",
    "\n",
    "You can find the following Classiq tutorial and documentation useful: \n",
    "- Execution: https://docs.classiq.io/latest/sdk-reference/execution/ \n",
    "- Execution Session: https://docs.classiq.io/latest/user-guide/execution/ExecutionSession/\n",
    "- Executing With Parameters: https://docs.classiq.io/latest/qmod-reference/language-reference/quantum-entry-point/\n",
    "\n",
    "It is highly recommended to use an ExecutionSession if you are executing the same circuit with different parameters many times. It is not needed to train parameters using the Classiq PyTorch integration.\n",
    "\n",
    "If you are not using the PyTorch integration, you will need an objective (also known as a 'loss', or 'cost') function. Depending on your implementation, you will need to either minimize or maximize it in training."
   ]
  },
  {
   "cell_type": "code",
   "execution_count": 10,
   "id": "b606ecf1",
   "metadata": {},
   "outputs": [],
   "source": [
    "### Your Code Goes Here: ###\n",
    "import random\n",
    "from IPython.display import clear_output\n",
    "import matplotlib.pyplot as plt\n",
    "from scipy.optimize import minimize\n",
    "from sklearn.model_selection import train_test_split\n",
    "%matplotlib inline"
   ]
  },
  {
   "cell_type": "code",
   "execution_count": 11,
   "id": "aa6ce5b3",
   "metadata": {},
   "outputs": [],
   "source": [
    "X_train, X_test, y_train, y_test = train_test_split(\n",
    "    data_x, data_y, test_size=0.3, random_state=43, shuffle=True\n",
    ")"
   ]
  },
  {
   "cell_type": "markdown",
   "id": "10822c81",
   "metadata": {},
   "source": [
    "`CircuitOptimizer` class will encapsulate the optimization process running batches of quantum estimation and iteratively training the parameter using the COBYLA optimizer."
   ]
  },
  {
   "cell_type": "code",
   "execution_count": 12,
   "id": "c83c4ef7",
   "metadata": {},
   "outputs": [],
   "source": [
    "OPTIMIZATION_ITERATIONS = 70\n",
    "\n",
    "def params_initializer(count: int) -> list[float]:\n",
    "    return [\n",
    "        float(random.randint(0, 3000)) / 1000\n",
    "        for _ in range(0, count)\n",
    "    ]\n",
    "\n",
    "def create_observable(n: int) -> list[PauliTerm]:\n",
    "    def pauli_terms(site: int, total_sites: int):\n",
    "        assert(0 <= site < total_sites)\n",
    "        all_terms = []\n",
    "        for pauli in [Pauli.X, Pauli.Y, Pauli.Z]:\n",
    "            terms = [Pauli.I] * total_sites\n",
    "            terms[site] = pauli\n",
    "            terms[site+1] = pauli\n",
    "            all_terms.append(terms)\n",
    "        return all_terms\n",
    "\n",
    "    return [\n",
    "        PauliTerm(pauli=terms, coefficient=1) for i in range(n-1) for terms in pauli_terms(i, n)\n",
    "    ]\n",
    "\n",
    "class CircuitOptimizer():\n",
    "\n",
    "    def __init__(self, qprog, obs, params_count: int, iterations: int=OPTIMIZATION_ITERATIONS):\n",
    "        self.qprog = qprog\n",
    "        self.observable = obs\n",
    "        self.params_count = params_count\n",
    "        self.session = ExecutionSession(qprog)\n",
    "        self.iterations = iterations\n",
    "        self.initializer = params_initializer\n",
    "        self.optimization_progress = []\n",
    "\n",
    "    def create_params(self, feature, weights):\n",
    "        params = {\"feature_\" + str(i): x for i, x in enumerate(feature)}\n",
    "        params.update({\"weights_\" + str(i): x for i, x in enumerate(weights)})\n",
    "        return params\n",
    "\n",
    "    def batch_estimation(self, params) -> float:\n",
    "        results = self.session.batch_estimate(self.observable, params)\n",
    "        return [r.value.real for r in results]\n",
    "\n",
    "    def f(self, x, features, labels):\n",
    "        loss = 0\n",
    "        params = [self.create_params(feature, x) for feature in features]\n",
    "        results = self.batch_estimation(params)\n",
    "        for r, label in zip(results, labels):\n",
    "            classification = 1 if r > 0 else 0\n",
    "            loss += (classification - label) ** 2\n",
    "        self.optimization_progress.append(loss)\n",
    "        self.plot_progress()\n",
    "        return loss\n",
    "    \n",
    "    def plot_progress(self):\n",
    "        clear_output(wait=True)\n",
    "        plt.figure(figsize=(8, 4))\n",
    "        plt.plot(self.optimization_progress, marker='o')\n",
    "        plt.title(\"Loss Function Progress\")\n",
    "        plt.grid(True)\n",
    "        plt.xlabel(\"Iteration\")\n",
    "        plt.show()\n",
    "\n",
    "    def progress_callback(self, *args, **kwargs):\n",
    "        pass\n",
    "\n",
    "    def optimize(self, features, labels):\n",
    "        random.seed(1001)\n",
    "        self.optimization_progress = []\n",
    "        out = minimize(\n",
    "            self.f,\n",
    "            x0=self.initializer(self.params_count),\n",
    "            args=(features, labels),\n",
    "            method=\"COBYLA\",\n",
    "            options={\"maxiter\": self.iterations},\n",
    "            callback=self.progress_callback,\n",
    "        )\n",
    "        print(out)\n",
    "        return out.fun, out.x\n"
   ]
  },
  {
   "cell_type": "markdown",
   "id": "41d2e045",
   "metadata": {},
   "source": [
    "We will initialize `CircuitOptimizer` with the sybthesized Quantum model, observable and number of parameters to train. Circuit optimizer will randomly generate the initial vector of parameters and then will iteratively train them optimizing the loss function. The chosen observable represents the following Hamiltonian:\n",
    "\n",
    "$H = \\sum_{i=1}^{N-1}{\\sigma^{i} \\cdot \\sigma^{i+1}}$\n",
    "\n",
    "$\\sigma^{i}=(\\sigma_x^i, \\sigma_y^i, \\sigma_z^i)$ is the vector of Pauli operators at site $i$"
   ]
  },
  {
   "cell_type": "code",
   "execution_count": 13,
   "id": "a9f39241",
   "metadata": {},
   "outputs": [],
   "source": [
    "circuit_optimizer = CircuitOptimizer(\n",
    "    qprog=QPROG,\n",
    "    obs=create_observable(num_qubits),\n",
    "    params_count=num_weights\n",
    ")"
   ]
  },
  {
   "cell_type": "code",
   "execution_count": 14,
   "id": "782e66e9",
   "metadata": {},
   "outputs": [
    {
     "data": {
      "image/png": "[encoded data removed]",
      "text/plain": [
       "<Figure size 800x400 with 1 Axes>"
      ]
     },
     "metadata": {},
     "output_type": "display_data"
    },
    {
     "name": "stdout",
     "output_type": "stream",
     "text": [
      " message: Maximum number of function evaluations has been exceeded.\n",
      " success: False\n",
      "  status: 2\n",
      "     fun: 0.0\n",
      "       x: [ 1.715e+00  8.503e-01 ...  6.472e-01  2.481e+00]\n",
      "    nfev: 70\n",
      "   maxcv: 0.0\n"
     ]
    }
   ],
   "source": [
    "loss, optimized_weights = circuit_optimizer.optimize(\n",
    "    features=X_train,\n",
    "    labels=y_train,\n",
    ")"
   ]
  },
  {
   "cell_type": "code",
   "execution_count": 15,
   "id": "77520e35",
   "metadata": {},
   "outputs": [
    {
     "data": {
      "text/plain": [
       "array([ 1.71535801,  0.85033395, -0.22072182,  3.57723902,  2.5589642 ,\n",
       "        0.36029534,  2.65209298,  2.23070398,  1.42676667,  2.13651474,\n",
       "        2.67838176,  2.68649145,  2.52999606,  0.64717208,  2.48142688])"
      ]
     },
     "execution_count": 15,
     "metadata": {},
     "output_type": "execute_result"
    }
   ],
   "source": [
    "optimized_weights"
   ]
  },
  {
   "cell_type": "markdown",
   "id": "198d25e0",
   "metadata": {},
   "source": [
    "Training that takes too long may make it impossible to grade your submission."
   ]
  },
  {
   "cell_type": "markdown",
   "id": "b75f5aed",
   "metadata": {},
   "source": [
    "# Testing the Model\n",
    "\n",
    "Good job! Now it's time to see whether the model you designed can successfully perform the classification. For this, compare the predictions of your model to the actual labels. \n",
    "\n",
    "If the model does not perform well, try modifying the encoding and/or the ansatz (by using different number of parameters/qubits/ansatz layers/...)"
   ]
  },
  {
   "cell_type": "code",
   "execution_count": 16,
   "id": "c28e2e16",
   "metadata": {},
   "outputs": [],
   "source": [
    "### Your Code Goes Here: ###\n",
    "def predict(features, weights):\n",
    "    params = [circuit_optimizer.create_params(feature, weights) for feature in features]\n",
    "    results = circuit_optimizer.batch_estimation(params)\n",
    "    return [1 if r > 0 else 0 for r in results]\n",
    "\n",
    "def calculate_accuracy(predictions, labels):\n",
    "    correct = 0\n",
    "    for p, l in zip(predictions, labels):\n",
    "        if p == l:\n",
    "            correct += 1\n",
    "    return correct / len(labels)\n",
    "\n"
   ]
  },
  {
   "cell_type": "code",
   "execution_count": 17,
   "id": "fc77b1dc",
   "metadata": {},
   "outputs": [
    {
     "name": "stdout",
     "output_type": "stream",
     "text": [
      "Accuracy: 0.986\n"
     ]
    }
   ],
   "source": [
    "A = calculate_accuracy(\n",
    "    predict(X_test, optimized_weights),\n",
    "    y_test\n",
    ")\n",
    "print(f\"Accuracy: {A:.3f}\")"
   ]
  },
  {
   "cell_type": "markdown",
   "id": "c7ea5280",
   "metadata": {},
   "source": [
    "## Grading\n",
    "\n",
    "You will be evaluated on the accuracy, depth, width of your model and the number of parameters in your model."
   ]
  },
  {
   "cell_type": "markdown",
   "id": "130eb0ba",
   "metadata": {},
   "source": [
    "The following function will return the width and depth of your model as they will be used in grading. Use it to self-evaluate your model."
   ]
  },
  {
   "cell_type": "code",
   "execution_count": 18,
   "id": "09a80a52",
   "metadata": {},
   "outputs": [],
   "source": [
    "from classiq import QuantumProgram\n",
    "\n",
    "def get_metrics(qprog):\n",
    "    \"\"\"\n",
    "    Extract circuit metrics from a quantum program.\n",
    "\n",
    "    Parameters:\n",
    "        qprog: The quantum program object.\n",
    "\n",
    "    Returns:\n",
    "        dict: A dictionary containing the circuit metrics:\n",
    "              - \"depth\": Circuit depth\n",
    "              - \"width\": Circuit width\n",
    "    \"\"\"\n",
    "    circuit = QuantumProgram.from_qprog(qprog)\n",
    "\n",
    "    metrics = {\n",
    "        \"depth\": circuit.transpiled_circuit.depth,\n",
    "        \"width\": circuit.data.width,\n",
    "    }\n",
    "\n",
    "    return metrics"
   ]
  },
  {
   "cell_type": "code",
   "execution_count": 19,
   "id": "4e928cf0",
   "metadata": {},
   "outputs": [
    {
     "name": "stdout",
     "output_type": "stream",
     "text": [
      "{'depth': 24, 'width': 8}\n"
     ]
    }
   ],
   "source": [
    "print(get_metrics(QPROG))"
   ]
  },
  {
   "cell_type": "code",
   "execution_count": 20,
   "id": "384e7801",
   "metadata": {},
   "outputs": [
    {
     "name": "stdout",
     "output_type": "stream",
     "text": [
      "Grade: 96.30631111111111\n"
     ]
    }
   ],
   "source": [
    "metrics = get_metrics(QPROG)\n",
    "D = metrics[\"depth\"]\n",
    "W = metrics[\"width\"]\n",
    "P = len(optimized_weights)\n",
    "grade = A * 100 - 0.1 * P - 0.0002 * D - 0.1 * W\n",
    "print(f\"Grade: {grade}\")"
   ]
  },
  {
   "cell_type": "markdown",
   "id": "cd17c6a4",
   "metadata": {},
   "source": [
    "# Submission\n",
    "\n",
    "You will submit this notebook, your trained parameters, and your quantum model. "
   ]
  },
  {
   "cell_type": "code",
   "execution_count": 21,
   "id": "3262a32f",
   "metadata": {},
   "outputs": [],
   "source": [
    "# Do not change this cell\n",
    "\n",
    "import os\n",
    "\n",
    "def save_qprog(qprog, team_name: str, folder=\".\"):\n",
    "    assert isinstance(team_name, str)\n",
    "    file_name = f\"{team_name.replace(' ','_')}.qprog\"\n",
    "    with open(os.path.join(folder, file_name), 'w') as f:\n",
    "        f.write(qprog.model_dump_json(indent=4))\n",
    "        \n",
    "def save_params(params, team_name: str, folder=\".\"):\n",
    "    assert isinstance(team_name, str)\n",
    "    file_name = f\"{team_name.replace(' ','_')}.npz\"\n",
    "    with open(os.path.join(folder, file_name), 'wb') as f:\n",
    "        np.savez(f, params=params)"
   ]
  },
  {
   "cell_type": "code",
   "execution_count": 22,
   "id": "42cbc05d",
   "metadata": {},
   "outputs": [],
   "source": [
    "# Change to your team name!!\n",
    "TEAM_NAME = \"quantotto\"\n",
    "\n",
    "# Insert your trained parameters here!\n",
    "TRAINED_PARAMS = optimized_weights\n",
    "\n",
    "save_qprog(QPROG, team_name=TEAM_NAME)\n",
    "save_params(params=TRAINED_PARAMS, team_name=TEAM_NAME)"
   ]
  },
  {
   "cell_type": "code",
   "execution_count": 23,
   "id": "a0023449",
   "metadata": {},
   "outputs": [
    {
     "name": "stdout",
     "output_type": "stream",
     "text": [
      "The END\n"
     ]
    }
   ],
   "source": [
    "print(\"The END\")"
   ]
  }
 ],
 "metadata": {
  "kernelspec": {
   "display_name": "clqenv",
   "language": "python",
   "name": "python3"
  },
  "language_info": {
   "codemirror_mode": {
    "name": "ipython",
    "version": 3
   },
   "file_extension": ".py",
   "mimetype": "text/x-python",
   "name": "python",
   "nbconvert_exporter": "python",
   "pygments_lexer": "ipython3",
   "version": "3.10.11"
  }
 },
 "nbformat": 4,
 "nbformat_minor": 5
}
